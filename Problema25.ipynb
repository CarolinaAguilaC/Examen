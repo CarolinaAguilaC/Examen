{
  "nbformat": 4,
  "nbformat_minor": 0,
  "metadata": {
    "colab": {
      "provenance": [],
      "authorship_tag": "ABX9TyOkvZtVJ1cX/Boe5SGODsD7",
      "include_colab_link": true
    },
    "kernelspec": {
      "name": "python3",
      "display_name": "Python 3"
    },
    "language_info": {
      "name": "python"
    }
  },
  "cells": [
    {
      "cell_type": "markdown",
      "metadata": {
        "id": "view-in-github",
        "colab_type": "text"
      },
      "source": [
        "<a href=\"https://colab.research.google.com/github/CarolinaAguilaC/Examen/blob/main/Problema25.ipynb\" target=\"_parent\"><img src=\"https://colab.research.google.com/assets/colab-badge.svg\" alt=\"Open In Colab\"/></a>"
      ]
    },
    {
      "cell_type": "markdown",
      "source": [
        "# **PROBLEMA** **25**"
      ],
      "metadata": {
        "id": "8266q0_jIDgs"
      }
    },
    {
      "cell_type": "markdown",
      "source": [
        "Un quiosquero vende periódicos a 1.10 euros cada uno. Cada periódico le cuesta al quiosquero 0.90 euros. Las ventas de periódicos del quiosquero a partir de su experiencia se refleja en la tabla siguiente. \n",
        "\n",
        "|Periódicos|30|40|50|60|70|  \n",
        "|----------|--|--|--|--|--|\n",
        "|f(x)|20%|25%|25%|20%|10%|\n",
        "\n",
        "La tabla recoge por ejemplo que el 20 % del tiempo las ventas han sido de 30 periódicos. Teniendo en cuenta el coste de 0,20 euros por venta perdida y el coste de 0,10 euros por el reciclaje de cada periódico no vendido, determine el beneficio promedio diario si pide 50 periódicos cada día."
      ],
      "metadata": {
        "id": "Dkdv9sG5dP8n"
      }
    },
    {
      "cell_type": "markdown",
      "source": [
        "###**Solución analítica**"
      ],
      "metadata": {
        "id": "zuh5qAJlIC56"
      }
    },
    {
      "cell_type": "markdown",
      "source": [
        "Calculamos la probabilidad de que se vendan diferentes cantidades de periódicos:  \n",
        "- 30 periódicos: $0.2 · 30 = 6$ periódicos vendidos en promedio cada día.  \n",
        "- 40 periódicos: $0.25 · 40 = 10$ periódicos vendidos en promedio cada día.\n",
        "- 50 periódicos: $0.25 · 50 = 12.5$ periódicos vendidos en promedio cada día.\n",
        "- 60 periódicos: $0.2 · 60 = 12$ periódicos vendidos en promedio cada día.\n",
        "- 70 periódicos: $0.1 · 70 = 7$ periódicos vendidos en promedio cada día.\n",
        "\n",
        "Ahora,  calculamos el número de periódicos que se desperdician cada día y el costo asociado. Si se piden 50 periódicos cada día, entonces:\n",
        "- Si se venden 30 periódicos:  $20 · 0.10 = 2\\ € $.  \n",
        "- Si se venden 40 periódicos: $10 · 0.10 = 1\\ €$.\n",
        "- Si se venden 50 periódicos: $0\\ €$.\n",
        "- Si se venden 60 periódicos: $10 · 0.10 = 1\\ €$.\n",
        "- Si se venden 70 periódicos: $20 ⋅ 0.10 = 2\\ € $.\n",
        "\n",
        "El ingreso diario sería la cantidad de periódicos vendidos multiplicada por el precio de venta, es decir, 50  $\\cdotp$ 1.10 = 55 €. El costo diario sería la cantidad de periódicos pedidos multiplicada por el costo por periódico, es decir, 50 $·$ 0.90 = 45 €. Entonces, el beneficio diario sería el ingreso diario menos el costo diario menos el costo del desperdicio de periódicos, es decir, 55 - 45 - (2 + 1 + 1 + 2) = 4 €.\n",
        "\n",
        "Por lo tanto, el beneficio promedio diario del quiosquero sería de 4 € si pide 50 periódicos cada día."
      ],
      "metadata": {
        "id": "0y-NeW43tBFq"
      }
    },
    {
      "cell_type": "markdown",
      "source": [
        "### **1. Identifique las variables**"
      ],
      "metadata": {
        "id": "frtTbuiTPqha"
      }
    },
    {
      "cell_type": "markdown",
      "source": [
        "Ventas de los periódicos"
      ],
      "metadata": {
        "id": "tI68Fgn7p5KT"
      }
    },
    {
      "cell_type": "markdown",
      "source": [
        "### **2. Determine la distribución de probabilidad**"
      ],
      "metadata": {
        "id": "VxR3F4hxQk7M"
      }
    },
    {
      "cell_type": "markdown",
      "source": [
        "|Periódicos|30|40|50|60|70|  \n",
        "|----------|--|--|--|--|--|\n",
        "|f(x)|20%|25%|25%|20%|10%|"
      ],
      "metadata": {
        "id": "1SWC5j0DrX3I"
      }
    },
    {
      "cell_type": "markdown",
      "source": [
        "### **3. Determine la distribución de probabilidad acumulada**"
      ],
      "metadata": {
        "id": "KvT4nuMMTTMg"
      }
    },
    {
      "cell_type": "markdown",
      "source": [
        "|Periódicos|30|40|50|60|70|  \n",
        "|----------|--|--|--|--|--|\n",
        "|f(x)|20%|25%|25%|20%|10%|  \n",
        "|F(x)|0.20|0.45|0.70|0.90|1.00|"
      ],
      "metadata": {
        "id": "RnGfCd5nrgMd"
      }
    },
    {
      "cell_type": "markdown",
      "source": [
        "### **4. Establezca el intervalo de números aleatorios correspondiente a cada valor**"
      ],
      "metadata": {
        "id": "XXl3JtaKV2fP"
      }
    },
    {
      "cell_type": "markdown",
      "source": [
        "|Periódicos|30|40|50|60|70|  \n",
        "|----------|--|--|--|--|--|\n",
        "|f(x)|20%|25%|25%|20%|10%|  \n",
        "|F(x)|0.20|0.45|0.70|0.90|1.00|  \n",
        "|Intervalos|0.00-0.19|0.20-0.44|0.45-0.69|0.70-0.89|0.90-1.00|"
      ],
      "metadata": {
        "id": "zrPgYVNxrqVy"
      }
    },
    {
      "cell_type": "markdown",
      "source": [
        "### **5. Genere números aleatorios**"
      ],
      "metadata": {
        "id": "jV3HcOfJpxk4"
      }
    },
    {
      "cell_type": "code",
      "execution_count": 1,
      "metadata": {
        "id": "191b1e9b"
      },
      "outputs": [],
      "source": [
        "import numpy as np\n",
        "import random\n",
        "import matplotlib.pyplot as plt"
      ]
    },
    {
      "cell_type": "code",
      "execution_count": 2,
      "metadata": {
        "id": "25fbe36d"
      },
      "outputs": [],
      "source": [
        "def ventas_sim():\n",
        "    ventas=0\n",
        "    u = random.random() #Se generan números aleatorios para simularlas ventas\n",
        "    if 0.0 <= u < 0.20:\n",
        "        ventas = 30\n",
        "    elif 0.20 <= u < 0.45:\n",
        "        ventas = 40\n",
        "    elif 0.45 <= u < 0.70:\n",
        "        ventas = 50\n",
        "    elif 0.70 <= u < 0.90:\n",
        "        ventas = 60\n",
        "    elif 0.90 <= u <= 1.00:\n",
        "        ventas = 70\n",
        "    return ventas #Devolvemos el valor que el número aleatorio obtuvo"
      ]
    },
    {
      "cell_type": "code",
      "execution_count": 3,
      "metadata": {
        "id": "955e0989"
      },
      "outputs": [],
      "source": [
        "def beneficio(pedido):\n",
        "    ben = 0\n",
        "    ventas_reales = 0\n",
        "    ventas_perdidas = 0\n",
        "    no_vendidos = 0\n",
        "    vs = ventas_sim()\n",
        "    \n",
        "    if vs > pedido: #Si las ventas son menores que el pedido se hacen algunas operaciones\n",
        "        ventas_reales = pedido\n",
        "        ventas_perdidas = vs - pedido\n",
        "        no_vendidos = 0\n",
        "        \n",
        "    else: #Si es mayor, se hacen otras\n",
        "        ventas_reales = vs\n",
        "        ventas_perdidas = 0\n",
        "        no_vendidos = pedido - ventas_reales\n",
        "    \n",
        "    ben = 1.10*ventas_reales - 0.90*pedido - 0.10*no_vendidos - 0.20*ventas_perdidas\n",
        "    return ben"
      ]
    },
    {
      "cell_type": "code",
      "execution_count": 4,
      "metadata": {
        "id": "34b4243f",
        "outputId": "f7b47860-d31d-4075-8f9e-62f44a884604",
        "colab": {
          "base_uri": "https://localhost:8080/"
        }
      },
      "outputs": [
        {
          "output_type": "execute_result",
          "data": {
            "text/plain": [
              "10.000000000000007"
            ]
          },
          "metadata": {},
          "execution_count": 4
        }
      ],
      "source": [
        "beneficio(50)"
      ]
    },
    {
      "cell_type": "code",
      "execution_count": 5,
      "metadata": {
        "id": "5594aeea"
      },
      "outputs": [],
      "source": [
        "def simulacion(n):\n",
        "    L=[]\n",
        "    benef = 0\n",
        "    for i in range(n):\n",
        "        benef += beneficio(50)\n",
        "        L.append(benef/(i+1))\n",
        "    return L"
      ]
    },
    {
      "cell_type": "code",
      "execution_count": 6,
      "metadata": {
        "id": "9e8db4c9"
      },
      "outputs": [],
      "source": [
        "X=simulacion(500)"
      ]
    },
    {
      "cell_type": "markdown",
      "source": [
        "###**6. Graficamos**"
      ],
      "metadata": {
        "id": "w5aXcKkUnjIL"
      }
    },
    {
      "cell_type": "code",
      "execution_count": 7,
      "metadata": {
        "id": "af40deda",
        "outputId": "f9c1fb43-451a-42f8-a1d3-63d8afd96487",
        "colab": {
          "base_uri": "https://localhost:8080/",
          "height": 447
        }
      },
      "outputs": [
        {
          "output_type": "execute_result",
          "data": {
            "text/plain": [
              "[<matplotlib.lines.Line2D at 0x7f80a2ca6e60>]"
            ]
          },
          "metadata": {},
          "execution_count": 7
        },
        {
          "output_type": "display_data",
          "data": {
            "text/plain": [
              "<Figure size 640x480 with 1 Axes>"
            ],
            "image/png": "[encoded data removed]"
          },
          "metadata": {}
        }
      ],
      "source": [
        "plt.plot(X) #Graficamos"
      ]
    },
    {
      "cell_type": "code",
      "execution_count": 8,
      "metadata": {
        "id": "8cd260f2",
        "outputId": "997cabd4-23f3-4ba0-d608-d0f971205ae3",
        "colab": {
          "base_uri": "https://localhost:8080/"
        }
      },
      "outputs": [
        {
          "output_type": "execute_result",
          "data": {
            "text/plain": [
              "1.8428418962782571"
            ]
          },
          "metadata": {},
          "execution_count": 8
        }
      ],
      "source": [
        "np.mean(X)"
      ]
    },
    {
      "cell_type": "markdown",
      "source": [
        "###**7. Repetimos el modelo**"
      ],
      "metadata": {
        "id": "SVCv4dDTnb3s"
      }
    },
    {
      "cell_type": "code",
      "execution_count": 9,
      "metadata": {
        "id": "1fd595fe"
      },
      "outputs": [],
      "source": [
        "def modelo(n):\n",
        "    lista=[]\n",
        "    for i in range(n):\n",
        "        s = simulacion(500)\n",
        "        lista.append(np.mean(s))\n",
        "    return lista"
      ]
    },
    {
      "cell_type": "code",
      "execution_count": 10,
      "metadata": {
        "id": "545016ae"
      },
      "outputs": [],
      "source": [
        "Y=modelo(40) "
      ]
    },
    {
      "cell_type": "code",
      "execution_count": 11,
      "metadata": {
        "id": "bd58f8d8",
        "outputId": "ad0654eb-8143-4d66-b414-843bd39fcf41",
        "colab": {
          "base_uri": "https://localhost:8080/"
        }
      },
      "outputs": [
        {
          "output_type": "stream",
          "name": "stdout",
          "text": [
            "1.449129054760688 0.570085272490246\n"
          ]
        }
      ],
      "source": [
        "print(np.mean(Y), np.std(Y))"
      ]
    },
    {
      "cell_type": "code",
      "execution_count": 12,
      "metadata": {
        "id": "25176c75",
        "outputId": "48185ad1-384a-4f0b-de50-7683e1a6bc3a",
        "colab": {
          "base_uri": "https://localhost:8080/",
          "height": 430
        }
      },
      "outputs": [
        {
          "output_type": "display_data",
          "data": {
            "text/plain": [
              "<Figure size 640x480 with 1 Axes>"
            ],
            "image/png": "[encoded data removed]"
          },
          "metadata": {}
        }
      ],
      "source": [
        "plt.hist(Y) #Graficamos la repeticion del modelo\n",
        "plt.show()"
      ]
    },
    {
      "cell_type": "markdown",
      "source": [
        "###**8. Encontrar los intervalos de confianza**"
      ],
      "metadata": {
        "id": "Y5Hn2B8ennfa"
      }
    },
    {
      "cell_type": "code",
      "execution_count": 13,
      "metadata": {
        "id": "12370349",
        "colab": {
          "base_uri": "https://localhost:8080/"
        },
        "outputId": "4d49842d-8f34-40ad-ddec-83e68d070443"
      },
      "outputs": [
        {
          "output_type": "stream",
          "name": "stdout",
          "text": [
            "El intervalo de confianza es:  1.3484113734628624 ≤ m ≤ 1.5498467360585138\n"
          ]
        }
      ],
      "source": [
        "print(\"El intervalo de confianza es: \",\n",
        "np.mean(Y)-(1.96)*((np.var(Y))/np.sqrt(40)), \"≤ m ≤\",\n",
        "np.mean(Y)+(1.96)*((np.var(Y))/np.sqrt(40)))"
      ]
    },
    {
      "cell_type": "markdown",
      "source": [
        "##**Determine, por simulación, el pedido de periódicos que optimiza el beneficio**"
      ],
      "metadata": {
        "id": "0stfk49so0Uu"
      }
    },
    {
      "cell_type": "code",
      "source": [
        "def calcular_beneficio(num_pedidos):\n",
        "    ingresos = num_pedidos * 1.10\n",
        "    costo_periodicos = num_pedidos * 0.90\n",
        "    periodicos_no_vendidos = max(0, num_pedidos - 50)\n",
        "    costo_ventas_perdidas = periodicos_no_vendidos * 0.20\n",
        "    costo_reciclaje = periodicos_no_vendidos * 0.10\n",
        "    beneficio = ingresos - costo_periodicos - costo_ventas_perdidas - costo_reciclaje\n",
        "    return beneficio\n",
        "\n",
        "mejor_pedido = 0\n",
        "mejor_beneficio = 0\n",
        "\n",
        "for num_pedidos in range(30, 71):\n",
        "    beneficio = calcular_beneficio(num_pedidos)\n",
        "    if beneficio > mejor_beneficio:\n",
        "        mejor_beneficio = beneficio\n",
        "        mejor_pedido = num_pedidos\n",
        "\n",
        "print(\"El pedido óptimo de periódicos es:\", mejor_pedido)\n",
        "print(\"El beneficio máximo obtenido es:\", mejor_beneficio)\n"
      ],
      "metadata": {
        "colab": {
          "base_uri": "https://localhost:8080/"
        },
        "id": "S0zM3DOSo9sp",
        "outputId": "1f0ea2a7-5ba9-44e5-cba4-194f1330f26a"
      },
      "execution_count": 30,
      "outputs": [
        {
          "output_type": "stream",
          "name": "stdout",
          "text": [
            "El pedido óptimo de periódicos es: 50\n",
            "El beneficio máximo obtenido es: 10.000000000000007\n"
          ]
        }
      ]
    }
  ]
}