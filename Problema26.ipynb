{
  "nbformat": 4,
  "nbformat_minor": 0,
  "metadata": {
    "colab": {
      "provenance": [],
      "authorship_tag": "ABX9TyMruyRaRCMNUQvSmkCq7qVu",
      "include_colab_link": true
    },
    "kernelspec": {
      "name": "python3",
      "display_name": "Python 3"
    },
    "language_info": {
      "name": "python"
    }
  },
  "cells": [
    {
      "cell_type": "markdown",
      "metadata": {
        "id": "view-in-github",
        "colab_type": "text"
      },
      "source": [
        "<a href=\"https://colab.research.google.com/github/CarolinaAguilaC/Examen/blob/main/Problema26.ipynb\" target=\"_parent\"><img src=\"https://colab.research.google.com/assets/colab-badge.svg\" alt=\"Open In Colab\"/></a>"
      ]
    },
    {
      "cell_type": "markdown",
      "source": [
        "# **PROBLEMA** **26**"
      ],
      "metadata": {
        "id": "6Gfbc6tjIQ3e"
      }
    },
    {
      "cell_type": "markdown",
      "source": [
        "Una empresa dispone de varias máquinas herramienta cuyas herramientas de corte se desgastan constantemente. Cuando esto ocurre, la máquina es inservible. En la actualidad el mantenimiento es correctivo reemplazándose una herramienta cuando falla. Dado que cada máquina dispone de una torre con cinco herramientas, se propone reemplazar toda la torre de herramientas (las cinco herramientas de golpe) cada vez que falle una, lo que debería reducir la frecuencia de desgaste de las herramientas. El tiempo necesario para el reemplazo de una herramienta es de una hora. Las cinco pueden reemplazarse en dos horas. El coste de una hora de máquina parada es de cien euros. Cada herramienta cuesta diez euros. La tabla siguiente recoge los datos de averías en el caso de sustituir una sola herramienta cada vez.\n",
        "\n",
        "|Horas entre averías si sustituye una herramienta|20|30|40|50|60|70|80|\n",
        "|------------------------------------------------|--|--|--|--|--|--|--|\n",
        "|Probabilidad|0.05|0.15|0.15|0.20|0.20|0.15|0.10|\n",
        "\n",
        "Si las cinco herramientas se cambian cada vez que una falla, la distribución de probabilidad entre fallos es la siguiente:\n",
        "\n",
        "|Horas entre averías|30|40|50|60|70|80|90|\n",
        "|------------------------------------------------|--|--|--|--|--|--|--|\n",
        "|Probabilidad|0.05|0.15|0.15|0.20|0.20|0.15|0.10|\n",
        "\n",
        "Determine mediante simulación la mejor política de reemplazo de las herramien tas de corte. "
      ],
      "metadata": {
        "id": "oJHhb-24eWov"
      }
    },
    {
      "cell_type": "markdown",
      "source": [
        "### **1. Identifique las variables**"
      ],
      "metadata": {
        "id": "L1LFdqQUJU2Q"
      }
    },
    {
      "cell_type": "markdown",
      "source": [
        "Horas entre averías"
      ],
      "metadata": {
        "id": "2clKNRCuP3ZP"
      }
    },
    {
      "cell_type": "markdown",
      "source": [
        "##**Sustitución de una herramienta**"
      ],
      "metadata": {
        "id": "P9rNsQUUjryu"
      }
    },
    {
      "cell_type": "markdown",
      "source": [
        "### **2. Determine la distribución de probabilidad**"
      ],
      "metadata": {
        "id": "g_spUWBQQLWK"
      }
    },
    {
      "cell_type": "markdown",
      "source": [
        "|Horas entre averías si sustituye una herramienta|20|30|40|50|60|70|80|\n",
        "|------------------------------------------------|--|--|--|--|--|--|--|\n",
        "|Probabilidad|0.05|0.15|0.15|0.20|0.20|0.15|0.10|"
      ],
      "metadata": {
        "id": "wX-iPN9zkR0Q"
      }
    },
    {
      "cell_type": "markdown",
      "source": [
        "### **3. Determine la distribución de probabilidad acumulada**"
      ],
      "metadata": {
        "id": "G7-po0Pzkd10"
      }
    },
    {
      "cell_type": "markdown",
      "source": [
        "|Horas entre averías si sustituye una herramienta|20|30|40|50|60|70|80|\n",
        "|------------------------------------------------|--|--|--|--|--|--|--|\n",
        "|Probabilidad|0.05|0.15|0.15|0.20|0.20|0.15|0.10|  \n",
        "|F(x)|0.05|0.20|0.35|0.55|0.75|0.90|1.00|"
      ],
      "metadata": {
        "id": "s5atD47knpmb"
      }
    },
    {
      "cell_type": "markdown",
      "source": [
        "### **4. Establezca el intervalo de números aleatorios correspondiente a cada valor**"
      ],
      "metadata": {
        "id": "9L4WYRzkn7iB"
      }
    },
    {
      "cell_type": "markdown",
      "source": [
        "|Horas entre averías si sustituye una herramienta|20|30|40|50|60|70|80|\n",
        "|------------------------------------------------|--|--|--|--|--|--|--|\n",
        "|Probabilidad|0.05|0.15|0.15|0.20|0.20|0.15|0.10|  \n",
        "|F(x)|0.05|0.20|0.35|0.55|0.75|0.90|1.00|  \n",
        "|Intervalos|0.00-0.04|0.05-0.19|0.20-0.34|0.35-0.54|0.55-0.74|0.75-0.89|0.90-1.00|"
      ],
      "metadata": {
        "id": "JgrsA25koFE6"
      }
    },
    {
      "cell_type": "markdown",
      "source": [
        "### **5. Genere números aleatorios**"
      ],
      "metadata": {
        "id": "dXJsYmZLogbX"
      }
    },
    {
      "cell_type": "code",
      "execution_count": 1,
      "metadata": {
        "id": "TIq3mDc3WSar"
      },
      "outputs": [],
      "source": [
        "import numpy as np\n",
        "import random \n",
        "import matplotlib.pyplot as plt "
      ]
    },
    {
      "cell_type": "code",
      "source": [
        "def horas_entre_averias(): \n",
        "    h=0\n",
        "    u = random.random() #Se generan números aleatorios\n",
        "    if 0.0 <= u < 0.0499:\n",
        "        u = 20\n",
        "    elif 0.05 <= u < 0.199: #Dependiendo del número, va a obtener un valor\n",
        "        u = 30\n",
        "    elif 0.20 <= u < 0.3499:\n",
        "        u = 40\n",
        "    elif 0.35 <= u < 0.5499:\n",
        "        u = 50\n",
        "    elif 0.55 <= u <= 0.7499:\n",
        "        u = 60\n",
        "    elif 0.75 <= u < 0.8999:\n",
        "        u = 70\n",
        "    elif 0.90 <= u <= 1.00:\n",
        "        u = 80\n",
        "    return u #Devolvemos el valor que el número aleatorio obtuvo"
      ],
      "metadata": {
        "id": "Dp1wsWHvWeM4"
      },
      "execution_count": 2,
      "outputs": []
    },
    {
      "cell_type": "markdown",
      "source": [
        "###**6. Gráficar**"
      ],
      "metadata": {
        "id": "LO6pM9MzgT1B"
      }
    },
    {
      "cell_type": "code",
      "source": [
        "def politica_1(n): \n",
        "  suma_reemplazo=0 #Variable para la suma de las horas entre averias\n",
        "  coste_funcionamiento=[] #Variable para guardar el coste de funcionamiento\n",
        "  suma_coste=0  \n",
        "  for i in range(n):\n",
        "    suma_coste=suma_coste+horas_entre_averias() \n",
        "    suma_reemplazo=suma_reemplazo+110\n",
        "    coste_funcionamiento.append(suma_reemplazo/suma_coste) \n",
        "\n",
        "  return coste_funcionamiento #Devolvemos el coste de funcionamiento"
      ],
      "metadata": {
        "id": "CZGU0IFDXNDU"
      },
      "execution_count": 3,
      "outputs": []
    },
    {
      "cell_type": "code",
      "source": [
        "X=politica_1(50)"
      ],
      "metadata": {
        "id": "Vo03ya40a8Y4"
      },
      "execution_count": 5,
      "outputs": []
    },
    {
      "cell_type": "code",
      "source": [
        "plt.plot(X) #Graficamos"
      ],
      "metadata": {
        "id": "QlrOUhR4bAqi",
        "colab": {
          "base_uri": "https://localhost:8080/",
          "height": 447
        },
        "outputId": "22930d0b-3178-4e52-d203-d4674157aa3b"
      },
      "execution_count": 6,
      "outputs": [
        {
          "output_type": "execute_result",
          "data": {
            "text/plain": [
              "[<matplotlib.lines.Line2D at 0x7fc192edaec0>]"
            ]
          },
          "metadata": {},
          "execution_count": 6
        },
        {
          "output_type": "display_data",
          "data": {
            "text/plain": [
              "<Figure size 640x480 with 1 Axes>"
            ],
            "image/png": "[encoded data removed]"
          },
          "metadata": {}
        }
      ]
    },
    {
      "cell_type": "code",
      "source": [
        "np.mean(X) "
      ],
      "metadata": {
        "colab": {
          "base_uri": "https://localhost:8080/"
        },
        "id": "1Th3cb1toSXa",
        "outputId": "52e15067-d356-4f3f-eb81-607df42ea3d3"
      },
      "execution_count": 7,
      "outputs": [
        {
          "output_type": "execute_result",
          "data": {
            "text/plain": [
              "2.2214624534980008"
            ]
          },
          "metadata": {},
          "execution_count": 7
        }
      ]
    },
    {
      "cell_type": "markdown",
      "source": [
        "###**7. Replicar el modelo**"
      ],
      "metadata": {
        "id": "xOnBOGi4hjWh"
      }
    },
    {
      "cell_type": "code",
      "source": [
        "def modelo(n): \n",
        "    lista=[]\n",
        "    for i in range(n):\n",
        "        s = politica_1(500)\n",
        "        lista.append(np.mean(s)) \n",
        "    return lista"
      ],
      "metadata": {
        "id": "B4smAhteoX0_"
      },
      "execution_count": 8,
      "outputs": []
    },
    {
      "cell_type": "code",
      "source": [
        "Y=modelo(50) #Graficamos la repeticion del modelo"
      ],
      "metadata": {
        "id": "jySGppFooesJ"
      },
      "execution_count": 9,
      "outputs": []
    },
    {
      "cell_type": "code",
      "source": [
        "print(np.mean(Y), np.std(Y))"
      ],
      "metadata": {
        "colab": {
          "base_uri": "https://localhost:8080/"
        },
        "id": "c71W6DfXogdu",
        "outputId": "5a45e1fb-e030-416c-ee64-0497e322c902"
      },
      "execution_count": 10,
      "outputs": [
        {
          "output_type": "stream",
          "name": "stdout",
          "text": [
            "2.127493557520253 0.04680607138485002\n"
          ]
        }
      ]
    },
    {
      "cell_type": "code",
      "source": [
        "plt.hist(Y) \n",
        "plt.show()"
      ],
      "metadata": {
        "id": "HKpExDSloifJ",
        "colab": {
          "base_uri": "https://localhost:8080/",
          "height": 430
        },
        "outputId": "7d4fafbf-a1e7-4d2b-92be-003c0b723f16"
      },
      "execution_count": 11,
      "outputs": [
        {
          "output_type": "display_data",
          "data": {
            "text/plain": [
              "<Figure size 640x480 with 1 Axes>"
            ],
            "image/png": "[encoded data removed]"
          },
          "metadata": {}
        }
      ]
    },
    {
      "cell_type": "markdown",
      "source": [
        "###**7. Encontrar el intervalo de confianza**"
      ],
      "metadata": {
        "id": "AJ_5-Gfag7Vh"
      }
    },
    {
      "cell_type": "code",
      "source": [
        "print(\"El intervalo de confianza es: \",\n",
        "np.mean(Y)-(1.96)*((np.var(Y))/np.sqrt(50)), \"≤ m ≤\",\n",
        "np.mean(Y)+(1.96)*((np.var(Y))/np.sqrt(50)))"
      ],
      "metadata": {
        "colab": {
          "base_uri": "https://localhost:8080/"
        },
        "id": "xJoHlu1Sokly",
        "outputId": "a3ec89bd-2af9-4abd-b1c6-d93dd00e58c4"
      },
      "execution_count": 12,
      "outputs": [
        {
          "output_type": "stream",
          "name": "stdout",
          "text": [
            "El intervalo de confianza es:  2.1268862964362873 ≤ m ≤ 2.1281008186042185\n"
          ]
        }
      ]
    },
    {
      "cell_type": "markdown",
      "source": [
        "##**Sustitución de cinco herramientas**"
      ],
      "metadata": {
        "id": "RROLYnQ-ST2O"
      }
    },
    {
      "cell_type": "markdown",
      "source": [
        "### **2. Determine la distribución de probabilidad**"
      ],
      "metadata": {
        "id": "6bEMR04nkKfZ"
      }
    },
    {
      "cell_type": "markdown",
      "source": [
        "|Horas entre averías|30|40|50|60|70|80|90|\n",
        "|------------------------------------------------|--|--|--|--|--|--|--|\n",
        "|Probabilidad|0.05|0.15|0.15|0.20|0.20|0.15|0.10|"
      ],
      "metadata": {
        "id": "SvtMDbXWp9Pg"
      }
    },
    {
      "cell_type": "markdown",
      "source": [
        "### **3. Determine la distribución de probabilidad acumulada**"
      ],
      "metadata": {
        "id": "Zhjs3NEEnod2"
      }
    },
    {
      "cell_type": "markdown",
      "source": [
        "|Horas entre averías|30|40|50|60|70|80|90|\n",
        "|------------------------------------------------|--|--|--|--|--|--|--|\n",
        "|Probabilidad|0.05|0.15|0.15|0.20|0.20|0.15|0.10|  \n",
        "|F(x)|0.05|0.20|0.35|0.55|0.75|0.90|1.00|"
      ],
      "metadata": {
        "id": "9pdmHRUqqUVt"
      }
    },
    {
      "cell_type": "markdown",
      "source": [
        "### **4. Establezca el intervalo de números aleatorios correspondiente a cada valor**"
      ],
      "metadata": {
        "id": "EN_VeBihoDnw"
      }
    },
    {
      "cell_type": "markdown",
      "source": [
        "|Horas entre averías|30|40|50|60|70|80|90|\n",
        "|------------------------------------------------|--|--|--|--|--|--|--|\n",
        "|Probabilidad|0.05|0.15|0.15|0.20|0.20|0.15|0.10|  \n",
        "|F(x)|0.05|0.20|0.35|0.55|0.75|0.90|1.00|  \n",
        "|Intervalos|0.00-0.04|0.05-0.19|0.20-0.34|0.35-0.54|0.55-0.74|0.75-0.89|0.90-1.00|"
      ],
      "metadata": {
        "id": "yNeTkN06qkqy"
      }
    },
    {
      "cell_type": "code",
      "source": [
        "def politica_2(n): \n",
        "  suma_reemplazo=0 #Variable para la suma de las horas entre averias\n",
        "  coste_funcionamiento=[] #Variable para guardar el coste de funcionamiento\n",
        "  suma_coste=0  \n",
        "  for i in range(n):\n",
        "    suma_coste=suma_coste+horas_entre_averias() \n",
        "    suma_reemplazo=suma_reemplazo+250 \n",
        "    coste_funcionamiento.append(suma_reemplazo/suma_coste) \n",
        "\n",
        "  return coste_funcionamiento #Devolvemos el coste de funcionamiento"
      ],
      "metadata": {
        "id": "23gDW3chqNiL"
      },
      "execution_count": 13,
      "outputs": []
    },
    {
      "cell_type": "code",
      "source": [
        "w=politica_2(50)"
      ],
      "metadata": {
        "id": "GYzwrFMrqQnk"
      },
      "execution_count": 22,
      "outputs": []
    },
    {
      "cell_type": "markdown",
      "source": [
        "###**6. Graficar**"
      ],
      "metadata": {
        "id": "BY-on_RjgjXB"
      }
    },
    {
      "cell_type": "code",
      "source": [
        "plt.plot(w) #Graficamos"
      ],
      "metadata": {
        "id": "rpsd8BWWqVYr",
        "colab": {
          "base_uri": "https://localhost:8080/",
          "height": 447
        },
        "outputId": "43fa7abd-420a-40cc-c319-aca1795066fa"
      },
      "execution_count": 15,
      "outputs": [
        {
          "output_type": "execute_result",
          "data": {
            "text/plain": [
              "[<matplotlib.lines.Line2D at 0x7fc1901e9120>]"
            ]
          },
          "metadata": {},
          "execution_count": 15
        },
        {
          "output_type": "display_data",
          "data": {
            "text/plain": [
              "<Figure size 640x480 with 1 Axes>"
            ],
            "image/png": "[encoded data removed]"
          },
          "metadata": {}
        }
      ]
    },
    {
      "cell_type": "code",
      "source": [
        "np.mean(w) "
      ],
      "metadata": {
        "colab": {
          "base_uri": "https://localhost:8080/"
        },
        "id": "hwwKDQa3qYj5",
        "outputId": "77efa92d-3e91-4489-faca-2d91f85833d5"
      },
      "execution_count": 16,
      "outputs": [
        {
          "output_type": "execute_result",
          "data": {
            "text/plain": [
              "5.026850815169022"
            ]
          },
          "metadata": {},
          "execution_count": 16
        }
      ]
    },
    {
      "cell_type": "markdown",
      "source": [
        "###**7. Replicar el modelo**"
      ],
      "metadata": {
        "id": "ujkJlleUhZgZ"
      }
    },
    {
      "cell_type": "code",
      "source": [
        "def modelo_2(n): \n",
        "    lista=[]\n",
        "    for i in range(n):\n",
        "        s = politica_2(50)\n",
        "        lista.append(np.mean(s)) \n",
        "    return lista"
      ],
      "metadata": {
        "id": "6uQzOvsRqbFE"
      },
      "execution_count": 17,
      "outputs": []
    },
    {
      "cell_type": "code",
      "source": [
        "Z=modelo_2(50) "
      ],
      "metadata": {
        "id": "yyZlF2Bkqdm7"
      },
      "execution_count": 18,
      "outputs": []
    },
    {
      "cell_type": "code",
      "source": [
        "print(np.mean(Z), np.std(Z))"
      ],
      "metadata": {
        "colab": {
          "base_uri": "https://localhost:8080/"
        },
        "id": "WX92COW9qf7L",
        "outputId": "80498859-7f48-4538-965c-446193aac761"
      },
      "execution_count": 19,
      "outputs": [
        {
          "output_type": "stream",
          "name": "stdout",
          "text": [
            "4.808077289379825 0.33705453970171295\n"
          ]
        }
      ]
    },
    {
      "cell_type": "code",
      "source": [
        "plt.hist(Z) #Gráficamos las medias de los diferentes modelos\n",
        "plt.show()"
      ],
      "metadata": {
        "id": "7JZ9wOhBqijo",
        "colab": {
          "base_uri": "https://localhost:8080/",
          "height": 430
        },
        "outputId": "3ca9c516-e226-476a-c636-81c3dd00d21c"
      },
      "execution_count": 20,
      "outputs": [
        {
          "output_type": "display_data",
          "data": {
            "text/plain": [
              "<Figure size 640x480 with 1 Axes>"
            ],
            "image/png": "[encoded data removed]"
          },
          "metadata": {}
        }
      ]
    },
    {
      "cell_type": "markdown",
      "source": [
        "###**8. Encontrar el intervalo de confianza**"
      ],
      "metadata": {
        "id": "T8yteFHmglrq"
      }
    },
    {
      "cell_type": "code",
      "source": [
        "print(\"El intervalo de confianza es: \",\n",
        "np.mean(Z)-(1.96)*((np.var(Z))/np.sqrt(50)), \"≤ m ≤\",\n",
        "np.mean(Z)+(1.96)*((np.var(Z))/np.sqrt(50)))"
      ],
      "metadata": {
        "colab": {
          "base_uri": "https://localhost:8080/"
        },
        "id": "ikdFhx6DqlbA",
        "outputId": "ef25b47e-dd73-43a8-d0d8-dccd7f9ce9e8"
      },
      "execution_count": 21,
      "outputs": [
        {
          "output_type": "stream",
          "name": "stdout",
          "text": [
            "El intervalo de confianza es:  4.776587378537211 ≤ m ≤ 4.839567200222439\n"
          ]
        }
      ]
    }
  ]
}