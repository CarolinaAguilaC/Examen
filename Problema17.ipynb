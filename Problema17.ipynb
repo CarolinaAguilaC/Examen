{
  "nbformat": 4,
  "nbformat_minor": 0,
  "metadata": {
    "colab": {
      "provenance": [],
      "authorship_tag": "ABX9TyPxg3w6FFVTzysf+qnNHFob",
      "include_colab_link": true
    },
    "kernelspec": {
      "name": "python3",
      "display_name": "Python 3"
    },
    "language_info": {
      "name": "python"
    }
  },
  "cells": [
    {
      "cell_type": "markdown",
      "metadata": {
        "id": "view-in-github",
        "colab_type": "text"
      },
      "source": [
        "<a href=\"https://colab.research.google.com/github/CarolinaAguilaC/Examen/blob/main/Problema17.ipynb\" target=\"_parent\"><img src=\"https://colab.research.google.com/assets/colab-badge.svg\" alt=\"Open In Colab\"/></a>"
      ]
    },
    {
      "cell_type": "markdown",
      "source": [
        "# **PROBLEMA** **17**"
      ],
      "metadata": {
        "id": "5tNnL2h_Hmqt"
      }
    },
    {
      "cell_type": "markdown",
      "source": [
        "El número de accidentes que se producen en una vía de circulación de una ciudad es, en promedio, de dos a la semana. Determínese: \n",
        "\n",
        "a.   Probabilidad de que no se registre ningún accidente en una semana determina da.  \n",
        "\n",
        "b.   Probabilidad de que en un mes haya más de 5 accidentes. "
      ],
      "metadata": {
        "id": "uLy2q0dmHqgt"
      }
    },
    {
      "cell_type": "markdown",
      "source": [
        "###**Solución analítica**"
      ],
      "metadata": {
        "id": "KS-6Ee7qHuWy"
      }
    },
    {
      "cell_type": "markdown",
      "source": [
        "a) Para calcular la probabilidad de que no se registre ningún accidente en una semana dada usamos la distribución de Poisson con un promedio de dos accidentes por semana:\n",
        "\n",
        "$P(X=0) = \\frac{e^{-2}\\cdot2^0}{0!} = 0.1353$\n",
        "\n",
        "$\\therefore$La probabilidad es del 13.53%.\n",
        "\n",
        "(b) Para calcular la probabilidad de que en un mes haya más de 5 accidentes, usamos la distribución de Poisson con un promedio de (2 accidentes por semana)$\\cdot$ (4 semanas)=8 accidentes por mes:\n",
        "\n",
        "$P(X>5) = 1 - P(X\\leq5) = 1 - [P(X=0)+P(X=1)+...+P(X=5)]$\n",
        "\n",
        "$P(X>5) = 1 - (\\frac{e^{-8}\\cdot8^0}{0!} + \\frac{e^{-8}\\cdot8^1}{1!} + \\frac{e^{-8}\\cdot8^2}{2!} + \\frac{e^{-8}\\cdot8^3}{3!} + \\frac{e^{-8}\\cdot8^4}{4!} + \\frac{e^{-8}\\cdot8^5}{5!})$\n",
        "\n",
        "$P(X>5) = 1 - (0.0003 + 0.0026 + 0.0103 + 0.0273 + 0.0503 + 0.0693)$\n",
        "\n",
        "$P(X>5) = 0.8396$\n",
        "\n",
        "$\\therefore$La probabilidad es del 83.96%."
      ],
      "metadata": {
        "id": "Cw1hC4boWYKZ"
      }
    },
    {
      "cell_type": "markdown",
      "source": [
        "### **1. Identifique las variables**"
      ],
      "metadata": {
        "id": "WGcrBrRKO3bl"
      }
    },
    {
      "cell_type": "markdown",
      "source": [
        "Número de accidentes"
      ],
      "metadata": {
        "id": "Ab309l2xcsIy"
      }
    },
    {
      "cell_type": "markdown",
      "source": [
        "### **2. Determine la distribución de probabilidad**"
      ],
      "metadata": {
        "id": "48QKSootQjZS"
      }
    },
    {
      "cell_type": "markdown",
      "source": [
        "Es una distribución de Poisson"
      ],
      "metadata": {
        "id": "Z_qTMYSHX67L"
      }
    },
    {
      "cell_type": "markdown",
      "source": [
        "## **a)**"
      ],
      "metadata": {
        "id": "EHdgMrCKaWWy"
      }
    },
    {
      "cell_type": "markdown",
      "source": [
        "### **3. Modele las variables aleatorias**"
      ],
      "metadata": {
        "id": "gDNOF2hfTUev"
      }
    },
    {
      "cell_type": "markdown",
      "source": [
        "Número de accidentes $\\sim Ps(λ=2)$"
      ],
      "metadata": {
        "id": "xvfznP7HZOr3"
      }
    },
    {
      "cell_type": "markdown",
      "source": [
        "### **4. Defina el modelo del sistema y los objetivos de la simulación**"
      ],
      "metadata": {
        "id": "TnoKmq00XRVK"
      }
    },
    {
      "cell_type": "markdown",
      "source": [
        "El sistema consiste en una vía de circulación de una ciudad.\n",
        "El número de accidentes que ocurren en la vía sigue una distribución de Poisson con una tasa promedio de 2 accidentes por semana.\n",
        "Objetivos de la simulación:\n",
        "a)Estimar la probabilidad de que no se registre ningún accidente en una semana determinada.\n",
        "b)Estimar la probabilidad de que en un mes haya más de 5 accidentes."
      ],
      "metadata": {
        "id": "juMSKP2qawhf"
      }
    },
    {
      "cell_type": "code",
      "execution_count": 1,
      "metadata": {
        "id": "Pb2VgQUd3awB"
      },
      "outputs": [],
      "source": [
        "import numpy as np\n",
        "import random\n",
        "import matplotlib.pyplot as plt"
      ]
    },
    {
      "cell_type": "code",
      "source": [
        "def accidentes_semana():\n",
        "  a=np.random.poisson(2) #Con una distribuacion de Poisson, generamos los accidentes por semana\n",
        "  return a"
      ],
      "metadata": {
        "id": "88oKsTOX4PYh"
      },
      "execution_count": 2,
      "outputs": []
    },
    {
      "cell_type": "code",
      "source": [
        "def simulacion_semana(n):\n",
        "  cero=0\n",
        "  proba=[]\n",
        "  for i in range(n):\n",
        "    if accidentes_semana()==0: #Si los accidentes son 0\n",
        "      cero+=1 #Se aumenta 1 al contador\n",
        "      proba.append(cero/(i+1))\n",
        "  return proba"
      ],
      "metadata": {
        "id": "CrtG6g9o487n"
      },
      "execution_count": 3,
      "outputs": []
    },
    {
      "cell_type": "markdown",
      "source": [
        "###**5. Diseñe el expermiento**"
      ],
      "metadata": {
        "id": "B51Wrr3ZXXmC"
      }
    },
    {
      "cell_type": "code",
      "source": [
        "X=simulacion_semana(500)"
      ],
      "metadata": {
        "id": "GCgTF-oG6UOD"
      },
      "execution_count": 4,
      "outputs": []
    },
    {
      "cell_type": "code",
      "source": [
        "plt.plot(X) #Graficamos"
      ],
      "metadata": {
        "colab": {
          "base_uri": "https://localhost:8080/",
          "height": 447
        },
        "id": "NDetYCeu71uP",
        "outputId": "4365dfc5-cc10-4bfc-d8f1-5292dba042e7"
      },
      "execution_count": 5,
      "outputs": [
        {
          "output_type": "execute_result",
          "data": {
            "text/plain": [
              "[<matplotlib.lines.Line2D at 0x7f97721b2f50>]"
            ]
          },
          "metadata": {},
          "execution_count": 5
        },
        {
          "output_type": "display_data",
          "data": {
            "text/plain": [
              "<Figure size 640x480 with 1 Axes>"
            ],
            "image/png": "[encoded data removed]"
          },
          "metadata": {}
        }
      ]
    },
    {
      "cell_type": "code",
      "source": [
        "np.mean(X)"
      ],
      "metadata": {
        "colab": {
          "base_uri": "https://localhost:8080/"
        },
        "id": "RGmbQMcR9XoI",
        "outputId": "1dbec3dd-6c4a-42dd-f3ee-e3c6b9f5f224"
      },
      "execution_count": 6,
      "outputs": [
        {
          "output_type": "execute_result",
          "data": {
            "text/plain": [
              "0.1317472305619201"
            ]
          },
          "metadata": {},
          "execution_count": 6
        }
      ]
    },
    {
      "cell_type": "code",
      "source": [
        "def modelo(n): \n",
        "    lista=[]\n",
        "    for i in range(n):\n",
        "        s = simulacion_semana(500)\n",
        "        lista.append(np.mean(s)) \n",
        "    return lista"
      ],
      "metadata": {
        "id": "4rQwmpaF9qKT"
      },
      "execution_count": 7,
      "outputs": []
    },
    {
      "cell_type": "markdown",
      "source": [
        "###**6. Repita el experimento $n$ veces**"
      ],
      "metadata": {
        "id": "nO_XYPJ6Xgku"
      }
    },
    {
      "cell_type": "code",
      "source": [
        "Y=modelo(50) "
      ],
      "metadata": {
        "id": "XaPWtKyD-Kyd"
      },
      "execution_count": 8,
      "outputs": []
    },
    {
      "cell_type": "code",
      "source": [
        "print(np.mean(Y), np.std(Y))"
      ],
      "metadata": {
        "colab": {
          "base_uri": "https://localhost:8080/"
        },
        "id": "wmEvxwWG9zUc",
        "outputId": "9785925b-d499-4cd0-f052-de626f3ca030"
      },
      "execution_count": 9,
      "outputs": [
        {
          "output_type": "stream",
          "name": "stdout",
          "text": [
            "0.14405967832465483 0.027037705107935187\n"
          ]
        }
      ]
    },
    {
      "cell_type": "code",
      "source": [
        "plt.hist(Y) #Graficamos la repeticion del modelo\n",
        "plt.show()"
      ],
      "metadata": {
        "colab": {
          "base_uri": "https://localhost:8080/",
          "height": 430
        },
        "id": "yuq_xdbi96VH",
        "outputId": "bb85ce76-f975-4c0f-df33-cac2ef985bc3"
      },
      "execution_count": 10,
      "outputs": [
        {
          "output_type": "display_data",
          "data": {
            "text/plain": [
              "<Figure size 640x480 with 1 Axes>"
            ],
            "image/png": "[encoded data removed]"
          },
          "metadata": {}
        }
      ]
    },
    {
      "cell_type": "markdown",
      "source": [
        "###**7. Hallar el intervalo de confianza**"
      ],
      "metadata": {
        "id": "mMhELxS5XoOM"
      }
    },
    {
      "cell_type": "code",
      "source": [
        "print(\"El intervalo de confianza es: \",\n",
        "np.mean(Y)-(1.96)*((np.var(Y))/np.sqrt(50)), \"≤ m ≤\",\n",
        "np.mean(Y)+(1.96)*((np.var(Y))/np.sqrt(50)))"
      ],
      "metadata": {
        "colab": {
          "base_uri": "https://localhost:8080/"
        },
        "id": "ygNFjfaU9-y6",
        "outputId": "85f7d8ed-9aae-43de-d56b-5e25de4ff181"
      },
      "execution_count": 11,
      "outputs": [
        {
          "output_type": "stream",
          "name": "stdout",
          "text": [
            "El intervalo de confianza es:  0.14385704506851452 ≤ m ≤ 0.14426231158079514\n"
          ]
        }
      ]
    },
    {
      "cell_type": "markdown",
      "source": [
        "## **b)**"
      ],
      "metadata": {
        "id": "pt8N_jXuaeDc"
      }
    },
    {
      "cell_type": "markdown",
      "source": [
        "### **3. Modele las variables aleatorias**"
      ],
      "metadata": {
        "id": "AEgP7fREapCk"
      }
    },
    {
      "cell_type": "markdown",
      "source": [
        "Número de accidentes $\\sim Ps(λ=8)$"
      ],
      "metadata": {
        "id": "Wt8QdSBiapCk"
      }
    },
    {
      "cell_type": "markdown",
      "source": [
        "### **4. Defina el modelo del sistema y los objetivos de la simulación**"
      ],
      "metadata": {
        "id": "zDj0IbnkapCk"
      }
    },
    {
      "cell_type": "code",
      "source": [
        "def accidentes_mes():\n",
        "  a=np.random.poisson(8) #Con una distribuacion de Poisson, generamos los accidentes por mes\n",
        "  return a"
      ],
      "metadata": {
        "id": "mHpLpGqI7OwZ"
      },
      "execution_count": 12,
      "outputs": []
    },
    {
      "cell_type": "code",
      "source": [
        "def simulacion_mes(n):\n",
        "  accidentes=0\n",
        "  proba=[]\n",
        "  for i in range(n):\n",
        "    if accidentes_mes()>5: #Si los accidentes son mayores que 5\n",
        "      accidentes+=1 #Se aumenta 1 al contador\n",
        "      proba.append(accidentes/(i+1))\n",
        "  return proba"
      ],
      "metadata": {
        "id": "MBZEN2dG6yrG"
      },
      "execution_count": 13,
      "outputs": []
    },
    {
      "cell_type": "markdown",
      "source": [
        "###**5. Diseñe el expermiento**"
      ],
      "metadata": {
        "id": "nePPUrheaf7Y"
      }
    },
    {
      "cell_type": "code",
      "source": [
        "W=simulacion_mes(500)"
      ],
      "metadata": {
        "id": "Nn-uoCms7A96"
      },
      "execution_count": 14,
      "outputs": []
    },
    {
      "cell_type": "code",
      "source": [
        "plt.plot(W)"
      ],
      "metadata": {
        "colab": {
          "base_uri": "https://localhost:8080/",
          "height": 447
        },
        "id": "-zzKvPyU9OI_",
        "outputId": "2f903de8-50d2-4e91-ba47-dde781728548"
      },
      "execution_count": 15,
      "outputs": [
        {
          "output_type": "execute_result",
          "data": {
            "text/plain": [
              "[<matplotlib.lines.Line2D at 0x7f97700bfc40>]"
            ]
          },
          "metadata": {},
          "execution_count": 15
        },
        {
          "output_type": "display_data",
          "data": {
            "text/plain": [
              "<Figure size 640x480 with 1 Axes>"
            ],
            "image/png": "[encoded data removed]"
          },
          "metadata": {}
        }
      ]
    },
    {
      "cell_type": "code",
      "source": [
        "np.mean(W)"
      ],
      "metadata": {
        "colab": {
          "base_uri": "https://localhost:8080/"
        },
        "id": "gT0yQstv9Yls",
        "outputId": "7b6406d7-3438-44e6-d0c3-54aa71501ae9"
      },
      "execution_count": 16,
      "outputs": [
        {
          "output_type": "execute_result",
          "data": {
            "text/plain": [
              "0.8205489183732522"
            ]
          },
          "metadata": {},
          "execution_count": 16
        }
      ]
    },
    {
      "cell_type": "code",
      "source": [
        "def modelo(n): \n",
        "    lista=[]\n",
        "    for i in range(n):\n",
        "        s = simulacion_mes(500)\n",
        "        lista.append(np.mean(s)) \n",
        "    return lista"
      ],
      "metadata": {
        "id": "LU_QuV6d9rZd"
      },
      "execution_count": 17,
      "outputs": []
    },
    {
      "cell_type": "markdown",
      "source": [
        "###**6. Repita el experimento $n$ veces**"
      ],
      "metadata": {
        "id": "_LWc-3R8cRcG"
      }
    },
    {
      "cell_type": "code",
      "source": [
        "Z=modelo(50) "
      ],
      "metadata": {
        "id": "d_2Dgnh--NUW"
      },
      "execution_count": 18,
      "outputs": []
    },
    {
      "cell_type": "code",
      "source": [
        "print(np.mean(Z), np.std(Z))"
      ],
      "metadata": {
        "colab": {
          "base_uri": "https://localhost:8080/"
        },
        "id": "Mqtjm6E190it",
        "outputId": "d7d7f2eb-a4a3-4a12-bbc1-d99a438d8c21"
      },
      "execution_count": 19,
      "outputs": [
        {
          "output_type": "stream",
          "name": "stdout",
          "text": [
            "0.8103405065819065 0.02066841564274269\n"
          ]
        }
      ]
    },
    {
      "cell_type": "code",
      "source": [
        "plt.hist(Z) #Graficamos la repeticion del modelo\n",
        "plt.show()"
      ],
      "metadata": {
        "colab": {
          "base_uri": "https://localhost:8080/",
          "height": 430
        },
        "id": "4Hgtap0T93fo",
        "outputId": "0a1a8125-1d97-43e7-ae69-55d087ececa3"
      },
      "execution_count": 20,
      "outputs": [
        {
          "output_type": "display_data",
          "data": {
            "text/plain": [
              "<Figure size 640x480 with 1 Axes>"
            ],
            "image/png": "[encoded data removed]"
          },
          "metadata": {}
        }
      ]
    },
    {
      "cell_type": "markdown",
      "source": [
        "###**7. Hallar el intervalo de confianza**"
      ],
      "metadata": {
        "id": "wTGPu9BacRcQ"
      }
    },
    {
      "cell_type": "code",
      "source": [
        "print(\"El intervalo de confianza es: \",\n",
        "np.mean(Z)-(1.96)*((np.var(Z))/np.sqrt(50)), \"≤ m ≤\",\n",
        "np.mean(Z)+(1.96)*((np.var(Z))/np.sqrt(50)))"
      ],
      "metadata": {
        "colab": {
          "base_uri": "https://localhost:8080/"
        },
        "id": "-DG7UV0c93r2",
        "outputId": "3060954e-95e7-48aa-f774-727cc3f27c86"
      },
      "execution_count": 21,
      "outputs": [
        {
          "output_type": "stream",
          "name": "stdout",
          "text": [
            "El intervalo de confianza es:  0.8102220973831218 ≤ m ≤ 0.8104589157806912\n"
          ]
        }
      ]
    }
  ]
}